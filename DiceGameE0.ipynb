{
  "nbformat": 4,
  "nbformat_minor": 0,
  "metadata": {
    "colab": {
      "provenance": [],
      "authorship_tag": "ABX9TyOx/OSzBXLtxmG0zRQMXtXy",
      "include_colab_link": true
    },
    "kernelspec": {
      "name": "python3",
      "display_name": "Python 3"
    },
    "language_info": {
      "name": "python"
    }
  },
  "cells": [
    {
      "cell_type": "markdown",
      "metadata": {
        "id": "view-in-github",
        "colab_type": "text"
      },
      "source": [
        "<a href=\"https://colab.research.google.com/github/BossChoper/BossChoper/blob/main/DiceGameE0.ipynb\" target=\"_parent\"><img src=\"https://colab.research.google.com/assets/colab-badge.svg\" alt=\"Open In Colab\"/></a>"
      ]
    },
    {
      "cell_type": "code",
      "execution_count": 3,
      "metadata": {
        "colab": {
          "base_uri": "https://localhost:8080/"
        },
        "id": "Ag5uvLaZwW28",
        "outputId": "a66f7a1c-8f7c-4135-ce40-f6dc13da1fb2"
      },
      "outputs": [
        {
          "output_type": "stream",
          "name": "stdout",
          "text": [
            "\n",
            "Player 1's Turn:\n",
            "Press Enter to roll the dice...2\n",
            "You rolled: (5, 6, 2) (regular)\n",
            "Points for this turn: 13\n",
            "Total points for Player 1: 13\n",
            "Press Enter to roll the dice...\n",
            "You rolled: (6, 2, 3) (regular)\n",
            "Points for this turn: 11\n",
            "Total points for Player 1: 24\n",
            "Press Enter to roll the dice...\n",
            "You rolled: (4, 4, 4) (tuples out)\n",
            "Points for this turn: 0\n",
            "Total points for Player 1: 24\n",
            "Press Enter to roll the dice...\n",
            "You rolled: (5, 6, 4) (regular)\n",
            "Points for this turn: 15\n",
            "Total points for Player 1: 39\n",
            "Press Enter to roll the dice...\n",
            "You rolled: (5, 4, 2) (regular)\n",
            "Points for this turn: 11\n",
            "Total points for Player 1: 50\n",
            "\n",
            "Player 2's Turn:\n",
            "Press Enter to roll the dice...\n",
            "You rolled: (4, 2, 5) (regular)\n",
            "Points for this turn: 11\n",
            "Total points for Player 2: 11\n",
            "Press Enter to roll the dice...\n",
            "You rolled: (1, 3, 3) (fixed)\n",
            "Points for this turn: 7\n",
            "Total points for Player 2: 18\n",
            "Press Enter to roll the dice...\n",
            "You rolled: (2, 4, 1) (regular)\n",
            "Points for this turn: 7\n",
            "Total points for Player 2: 25\n",
            "Press Enter to roll the dice...\n",
            "You rolled: (3, 2, 5) (regular)\n",
            "Points for this turn: 10\n",
            "Total points for Player 2: 35\n",
            "Press Enter to roll the dice...\n",
            "You rolled: (5, 6, 5) (fixed)\n",
            "Points for this turn: 16\n",
            "Total points for Player 2: 51\n",
            "\n",
            "Game Over!\n",
            "Final Scores:\n",
            "   Player 1  Player 2\n",
            "0        50        51\n",
            "Player 1: 50\n",
            "Player 2: 51\n"
          ]
        }
      ],
      "source": [
        "import pandas as panda\n",
        "import random\n",
        "def roll_dice():\n",
        "  \"\"\"Simulates rolling three dice.\"\"\"\n",
        "  return random.randint(1, 6), random.randint(1, 6), random.randint(1, 6)\n",
        "\n",
        "def calculate_points(rolls):\n",
        "    \"\"\"Calculates the points for a given roll.\"\"\"\n",
        "    if len(set(rolls)) == 1:  # If all dice show the same face\n",
        "        return 0, \"tuples out\"  # No points for tuples out\n",
        "    elif len(set(rolls)) == 2:  # If two dice show the same face\n",
        "        return sum(rolls), \"fixed\"  # Points equal to the sum of all faces\n",
        "    else:\n",
        "        return sum(rolls), \"regular\"  # Points equal to the sum of all faces\n",
        "\n",
        "def main():\n",
        "    players = [\"Player 1\", \"Player 2\"]  # List of player names\n",
        "    results = {player: 0 for player in players}  # Dictionary to store each player's points\n",
        "\n",
        "    num_turns = 5  # Number of turns per player\n",
        "\n",
        "    for player in players:\n",
        "        print(f\"\\n{player}'s Turn:\")\n",
        "        for _ in range(num_turns):\n",
        "            input(\"Press Enter to roll the dice...\")\n",
        "            rolls = roll_dice()\n",
        "            points, roll_type = calculate_points(rolls)\n",
        "            results[player] += points\n",
        "            print(f\"You rolled: {rolls} ({roll_type})\")\n",
        "            print(f\"Points for this turn: {points}\")\n",
        "            print(f\"Total points for {player}: {results[player]}\")\n",
        "\n",
        "    print(\"\\nGame Over!\")\n",
        "    print(\"Final Scores:\")\n",
        "#added a print out for panda's implementation, prints results in a dataframe\n",
        "    data_frame1 = panda.DataFrame(results, index=[0])\n",
        "    print(data_frame1)\n",
        "    for player, points in results.items():\n",
        "        print(f\"{player}: {points}\")\n",
        "main()\n",
        "# Code Review edits: Martin Konteh\n"
      ]
    }
  ]
}